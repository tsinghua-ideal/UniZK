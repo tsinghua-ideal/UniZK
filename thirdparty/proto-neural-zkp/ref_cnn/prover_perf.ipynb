{
 "cells": [
  {
   "cell_type": "code",
   "execution_count": null,
   "id": "cf9cc6d3-87d9-4c07-8773-39cfcc94d0f5",
   "metadata": {},
   "outputs": [],
   "source": [
    "# !pip install numpy pandas matplotlib watermark"
   ]
  },
  {
   "cell_type": "code",
   "execution_count": null,
   "id": "cb8f77a5-dc82-4c34-8ee8-4d510afb175d",
   "metadata": {},
   "outputs": [],
   "source": [
    "import os"
   ]
  },
  {
   "cell_type": "code",
   "execution_count": null,
   "id": "dc648e92-7bfa-4991-829b-012822604d0f",
   "metadata": {},
   "outputs": [],
   "source": [
    "import numpy as np"
   ]
  },
  {
   "cell_type": "code",
   "execution_count": null,
   "id": "d306a253-dc0d-425f-b77a-44b0dfadcaa3",
   "metadata": {},
   "outputs": [],
   "source": [
    "import pandas as pd"
   ]
  },
  {
   "cell_type": "code",
   "execution_count": null,
   "id": "b73322c2-d188-4dae-8480-558a3317fd17",
   "metadata": {},
   "outputs": [],
   "source": [
    "%matplotlib inline\n",
    "\n",
    "import matplotlib.pyplot as plt\n",
    "import matplotlib as mpl\n",
    "\n",
    "# Defaults more suitable for 4K monitors\n",
    "mpl.rcParams[\"figure.dpi\"] = 120\n",
    "mpl.rcParams[\"figure.figsize\"] = [12.0, 8.0]\n",
    "# Change font to match Latex\n",
    "mpl.rcParams['mathtext.fontset'] = 'cm'\n",
    "mpl.rcParams['font.family'] = 'CMU Serif'\n",
    "# Export settings\n",
    "mpl.rcParams[\"savefig.bbox\"] = 'tight'\n",
    "mpl.rcParams[\"savefig.dpi\"] = 300\n",
    "mpl.rcParams[\"savefig.facecolor\"] = 'white'\n",
    "# High compression lossless WebP for animations using ffmpeg -> libwebp\n",
    "mpl.rcParams[\"animation.writer\"] = 'ffmpeg'\n",
    "mpl.rcParams[\"animation.codec\"] = 'webp'\n",
    "mpl.rcParams[\"animation.ffmpeg_args\"] = [\"-lossless\", \"1\", \"-qscale\", \"100\"]\n",
    "# Use anim.save(\"movie.webp\", fps=60)\n"
   ]
  },
  {
   "cell_type": "code",
   "execution_count": null,
   "id": "64b79d42-6bcf-49d4-899f-113f193f6d11",
   "metadata": {},
   "outputs": [],
   "source": [
    "import watermark.watermark as watermark\n",
    "print(watermark(machine=True, iso8601=True, python=True, iversions=True, globals_=globals()))\n",
    "print(os.getcwd())"
   ]
  },
  {
   "cell_type": "code",
   "execution_count": null,
   "id": "33eec25e-635a-4779-b34f-09f638a246d2",
   "metadata": {},
   "outputs": [],
   "source": [
    "df1 = pd.read_csv('../bench-1.csv')\n",
    "df1['ops'] = df.input_size * df.output_size\n",
    "df1"
   ]
  },
  {
   "cell_type": "code",
   "execution_count": null,
   "id": "e0a47916-268f-42fb-8880-7298aef847e6",
   "metadata": {},
   "outputs": [],
   "source": [
    "df2 = pd.read_csv('../bench-2.csv')\n",
    "df2['ops'] = df.input_size * df.output_size\n",
    "df2"
   ]
  },
  {
   "cell_type": "code",
   "execution_count": null,
   "id": "fd37c694-d984-46af-af89-febee74eefcf",
   "metadata": {},
   "outputs": [],
   "source": [
    "df5 = pd.read_csv('../bench-5.csv')\n",
    "df5['ops'] = df.input_size * df.output_size\n",
    "df5"
   ]
  },
  {
   "cell_type": "code",
   "execution_count": null,
   "id": "d1d9a5d1-a8fa-417d-9ea3-378018f9ff36",
   "metadata": {},
   "outputs": [],
   "source": [
    "df10 = pd.read_csv('../bench-10.csv')\n",
    "df10['ops'] = df10.input_size * df10.output_size\n",
    "df10"
   ]
  },
  {
   "cell_type": "code",
   "execution_count": null,
   "id": "952a923e-8241-4b78-a156-961bf1b85570",
   "metadata": {},
   "outputs": [],
   "source": [
    "plt.title('Prover performance')\n",
    "plt.xlabel('# of muladds')\n",
    "plt.ylabel('proof time [s]')\n",
    "plt.plot(df1.ops, df1.proof_time_s, label='1 thread')\n",
    "plt.plot(df2.ops, df2.proof_time_s, label='2 thread')\n",
    "plt.plot(df5.ops, df5.proof_time_s, label='5 thread')\n",
    "plt.plot(df10.ops, df10.proof_time_s, label='10 threads')\n",
    "plt.ylim([0, 120])\n",
    "plt.legend()"
   ]
  },
  {
   "cell_type": "code",
   "execution_count": null,
   "id": "149a5d0c-a272-4fc4-b8fe-18771b9d6d44",
   "metadata": {},
   "outputs": [],
   "source": []
  },
  {
   "cell_type": "code",
   "execution_count": null,
   "id": "f758c3a7-4694-4673-971b-f5087b70c2ad",
   "metadata": {},
   "outputs": [],
   "source": [
    "plt.title('Prover performance')\n",
    "plt.xlabel('# of muladds')\n",
    "plt.ylabel('utilization')\n",
    "plt.plot(df1.ops, df1.proof_time_s / (df2.proof_time_s * 2), label='2 thread utilization')\n",
    "plt.plot(df1.ops, df1.proof_time_s / (df5.proof_time_s * 5), label='5 thread utilization')\n",
    "plt.plot(df.ops, df1.proof_time_s / (df.proof_time_s * 10), label='10 thread utilization')\n",
    "plt.ylim([0, 1])\n",
    "plt.legend()"
   ]
  },
  {
   "cell_type": "code",
   "execution_count": null,
   "id": "25aaf206-4a58-47f1-8272-3df48b5e6e54",
   "metadata": {},
   "outputs": [],
   "source": [
    "plt.title('Prover performance (1 threads)')\n",
    "plt.xlabel('# of muladds')\n",
    "plt.ylabel('memory [b]')\n",
    "plt.plot(df1.ops, df1.proof_mem_b, label='1 threads')\n",
    "plt.plot(df5.ops, df5.proof_mem_b, label='5 threads')\n",
    "plt.plot(df10.ops, df10.proof_mem_b, label='10 threads')\n",
    "plt.ylim([0, 1.1*np.max(df.proof_mem_b)])\n",
    "plt.legend()"
   ]
  },
  {
   "cell_type": "code",
   "execution_count": null,
   "id": "3cef9590-7689-477f-bac3-21d68ff591c2",
   "metadata": {},
   "outputs": [],
   "source": []
  },
  {
   "cell_type": "code",
   "execution_count": null,
   "id": "99d7647e-e9f2-48ba-8ea3-27ab41b06808",
   "metadata": {},
   "outputs": [],
   "source": []
  }
 ],
 "metadata": {
  "kernelspec": {
   "display_name": "Python 3 (ipykernel)",
   "language": "python",
   "name": "python3"
  },
  "language_info": {
   "codemirror_mode": {
    "name": "ipython",
    "version": 3
   },
   "file_extension": ".py",
   "mimetype": "text/x-python",
   "name": "python",
   "nbconvert_exporter": "python",
   "pygments_lexer": "ipython3",
   "version": "3.9.10"
  }
 },
 "nbformat": 4,
 "nbformat_minor": 5
}
